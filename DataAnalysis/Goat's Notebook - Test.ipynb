{
 "cells": [
  {
   "attachments": {},
   "cell_type": "markdown",
   "metadata": {},
   "source": [
    "## http://autoredistrict.org/ \n",
    "\n",
    "\n",
    "Auto-Redistrict uses a genetic algorithm to design districts that meet multiple criteria, namely:\n",
    "\n",
    "    Geometry\n",
    "        Equal population\n",
    "        Contiguous\n",
    "        Compact\n",
    "        Minimal county / municipality splits\n",
    "    Equality\n",
    "        Competitive\n",
    "        Proportional\n",
    "        Minimal partisan gerrymandering (maximal \"partisan symmetry\")\n",
    "        Minimal racial gerrymandering (maximal voting power equality)\n",
    "        \n",
    "    - Initialize. First, the population of potential maps is initialized. It could either start off totally random, or you could use the current electoral district shapes to start it off.\n",
    "    - Evaluate. Then the fitness of each map is evaluated on each of the criteria (in our case, compactness, equal population, competitiveness, proportional representation, etc.)\n",
    "    - Select. The best scoring maps are selected for reproduction,\n",
    "    - Recombine. and randomly recombined to form new maps, that are hybrids of the best maps.\n",
    "    - Mutate. Finally these maps are \"mutated\" slightly so that other potential maps that are similar to them are explored.\n",
    "    (Repeat). This is the new population of potential maps. The process repeats from step 2.\n",
    "\n",
    "These guys make use of a fairness criteria which takes into account previous voting data and uses that to build as fair districts as possible.\n",
    "\n",
    "This is definitely a much more complex algorithm because it takes into account, as they put it, genetic or organic factors. That means that not only are they accounting for equal population representation, they are also looking for districts which are as evenly split as possible.\n",
    "\n",
    "Definitely don't forsee us implementing this off the bat, but interesting to look into once we get the basic algorithm done. \n",
    "\n",
    "TLDR: Create a huge population of maps, delete those that don't fit the criterias listed. \n",
    "\n",
    "## https://phys.org/news/2017-11-algorithm-combat-gerrymandering.html\n",
    "\n",
    "Generate random points throughout the map. Use those points to draw random lines that seperate the map in equal population. \n",
    "\n",
    "Take the total number of voters in the state, divide by the number of congressional seats the state has, and stipulate that no center be assigned more or less than that number of voters.\n",
    "\n",
    "It starts by randomly placing a number of \"centers\" on a map (the centers might represent something like a fire station in a resource optimization problem) and then executing two simple steps repeatedly.\n",
    "\n",
    "\"For the first step, you assign clients to the center nearest to them,\" Klein explained. \"For the second step, you move the centers to get them closer to the clients that you just assigned. The two steps are repeated until there's no improvement made by either step. When that happens, the algorithm terminates and you have a stable solution.\"\n",
    "\n",
    "Note: this doesn't work if State dictates that districts conform to existing political boundaries.\n",
    "https://arxiv.org/abs/1710.03358\n",
    "\n",
    "\n",
    "\n",
    "\n",
    "## https://fivethirtyeight.com/features/we-drew-2568-congressional-districts-by-hand-heres-how/\n",
    "\n"
   ]
  },
  {
   "cell_type": "code",
   "execution_count": null,
   "metadata": {},
   "outputs": [],
   "source": []
  }
 ],
 "metadata": {
  "kernelspec": {
   "display_name": "Python 3",
   "language": "python",
   "name": "python3"
  },
  "language_info": {
   "codemirror_mode": {
    "name": "ipython",
    "version": 3
   },
   "file_extension": ".py",
   "mimetype": "text/x-python",
   "name": "python",
   "nbconvert_exporter": "python",
   "pygments_lexer": "ipython3",
   "version": "3.7.3"
  }
 },
 "nbformat": 4,
 "nbformat_minor": 2
}
