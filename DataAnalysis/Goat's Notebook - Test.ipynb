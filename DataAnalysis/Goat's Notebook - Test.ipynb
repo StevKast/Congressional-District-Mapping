{
 "cells": [
  {
   "cell_type": "markdown",
   "metadata": {},
   "source": [
    "http://autoredistrict.org/ \n",
    "\n",
    "https://phys.org/news/2017-11-algorithm-combat-gerrymandering.html\n",
    "\n",
    "https://fivethirtyeight.com/features/we-drew-2568-congressional-districts-by-hand-heres-how/"
   ]
  }
 ],
 "metadata": {
  "kernelspec": {
   "display_name": "Python 3",
   "language": "python",
   "name": "python3"
  },
  "language_info": {
   "codemirror_mode": {
    "name": "ipython",
    "version": 3
   },
   "file_extension": ".py",
   "mimetype": "text/x-python",
   "name": "python",
   "nbconvert_exporter": "python",
   "pygments_lexer": "ipython3",
   "version": "3.7.3"
  }
 },
 "nbformat": 4,
 "nbformat_minor": 2
}
